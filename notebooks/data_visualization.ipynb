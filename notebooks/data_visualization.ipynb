{
 "cells": [
  {
   "cell_type": "markdown",
   "source": [
    "# Data Analysis and Visualization for Log Files"
   ],
   "metadata": {
    "collapsed": false
   },
   "id": "f3a960950657f224"
  },
  {
   "cell_type": "markdown",
   "source": [
    "\n",
    "### 1. Import Necessary Modules\n",
    "Import the required functions and modules for data processing and plotting."
   ],
   "metadata": {
    "collapsed": false
   },
   "id": "bd4d94519a2b00dd"
  },
  {
   "cell_type": "code",
   "execution_count": 1,
   "outputs": [],
   "source": [
    "from src.data_processing import parse_data, clean_df\n",
    "from src.plotting import plot_against_time, scatter_plot"
   ],
   "metadata": {
    "collapsed": false,
    "ExecuteTime": {
     "end_time": "2024-12-03T01:12:38.898307Z",
     "start_time": "2024-12-03T01:12:36.538009Z"
    }
   },
   "id": "d5578aef7dd58bd9"
  },
  {
   "cell_type": "markdown",
   "source": [
    "### 2. Load and Preview Data\n",
    "Load the log file using the `parse_data` function and preview the raw data."
   ],
   "metadata": {
    "collapsed": false
   },
   "id": "1bfa25cb57d2f902"
  },
  {
   "cell_type": "code",
   "execution_count": null,
   "outputs": [],
   "source": [
    "input_file = '../data/log-files/rc_35.log'\n",
    "data = parse_data(input_file)\n",
    "data"
   ],
   "metadata": {
    "collapsed": false
   },
   "id": "d27dca5da1dc9d31"
  },
  {
   "cell_type": "markdown",
   "source": [
    "### 3. Clean the Data\n",
    "Clean the data using the `clean_df` function."
   ],
   "metadata": {
    "collapsed": false
   },
   "id": "ab4fab989fa8f4e0"
  },
  {
   "cell_type": "code",
   "execution_count": null,
   "outputs": [],
   "source": [
    "data_cleaned = clean_df(data)\n",
    "data_cleaned = data_cleaned.reset_index(drop=True)\n",
    "data_cleaned"
   ],
   "metadata": {
    "collapsed": false
   },
   "id": "8a26caf0344dcb5a"
  },
  {
   "cell_type": "markdown",
   "source": [
    "### 4. Plot Data Against Time\n",
    "Visualize the cleaned data by plotting 'Speed (mph)' against the elapsed time."
   ],
   "metadata": {
    "collapsed": false
   },
   "id": "bfa5df1cd8b08e6e"
  },
  {
   "cell_type": "code",
   "execution_count": null,
   "outputs": [],
   "source": [
    "plot_against_time(data_cleaned,'Speed (mph)')"
   ],
   "metadata": {
    "collapsed": false
   },
   "id": "92213c957f32d17b"
  },
  {
   "cell_type": "markdown",
   "source": [
    "### 5. Scatter Plot Visualization\n",
    "Scatter plot showing the relationship between two columns."
   ],
   "metadata": {
    "collapsed": false
   },
   "id": "6d339b9c0ff0e8ef"
  },
  {
   "cell_type": "code",
   "execution_count": null,
   "outputs": [],
   "source": [
    "scatter_plot(data, x='Speed (mph)', y='Steering (volt)')"
   ],
   "metadata": {
    "collapsed": false
   },
   "id": "5fe0b0c685e040d6"
  },
  {
   "cell_type": "markdown",
   "source": [
    "### 6. Save the Cleaned Data to CSV\n",
    "Save the cleaned data to a CSV file."
   ],
   "metadata": {
    "collapsed": false
   },
   "id": "2a580e0bff934189"
  },
  {
   "cell_type": "code",
   "execution_count": 6,
   "outputs": [],
   "source": [
    "data_cleaned.to_csv('../data/csv-output-files/rc_35.csv',index=False)"
   ],
   "metadata": {
    "collapsed": false,
    "ExecuteTime": {
     "end_time": "2024-12-03T01:12:39.868556Z",
     "start_time": "2024-12-03T01:12:39.764862Z"
    }
   },
   "id": "564670ccc902f560"
  }
 ],
 "metadata": {
  "kernelspec": {
   "display_name": "Python 3",
   "language": "python",
   "name": "python3"
  },
  "language_info": {
   "codemirror_mode": {
    "name": "ipython",
    "version": 2
   },
   "file_extension": ".py",
   "mimetype": "text/x-python",
   "name": "python",
   "nbconvert_exporter": "python",
   "pygments_lexer": "ipython2",
   "version": "2.7.6"
  }
 },
 "nbformat": 4,
 "nbformat_minor": 5
}
